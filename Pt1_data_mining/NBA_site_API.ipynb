{
 "cells": [
  {
   "cell_type": "markdown",
   "metadata": {},
   "source": [
    "# DATA MINING"
   ]
  },
  {
   "cell_type": "code",
   "execution_count": 1,
   "metadata": {},
   "outputs": [],
   "source": [
    "import pandas as pd\n",
    "import numpy as np\n",
    "\n",
    "from nba_api.stats.static import players\n",
    "from nba_api.stats.static import teams\n",
    "\n",
    "from tqdm import tqdm\n",
    "\n",
    "import datetime\n",
    "\n",
    "import random\n",
    "\n",
    "import time"
   ]
  },
  {
   "cell_type": "code",
   "execution_count": 3,
   "metadata": {},
   "outputs": [],
   "source": [
    "from nba_api.stats.endpoints import LeagueGameLog\n",
    "\n",
    "def team_box_score_collect(season_list):\n",
    "# Collecting all team box scores for all games\n",
    "# Assigning variable to 'Regular' or 'Playoffs'\n",
    "# \n",
    "    \n",
    "    all_games = []\n",
    "\n",
    "    for season in season_list:\n",
    "        reg_seas = leaguegamelog.LeagueGameLog(season=season)\n",
    "        reg_seas = reg_seas.get_data_frames()[0]\n",
    "        reg_seas['GM_TYPE'] = 'Regular'\n",
    "        reg_seas['SEASON_END'] = '20' + season[-2:]\n",
    "        all_games.append(reg_seas)\n",
    "\n",
    "\n",
    "        playoffs = leaguegamelog.LeagueGameLog(season=season, season_type_all_star='Playoffs')\n",
    "        playoffs = playoffs.get_data_frames()[0]\n",
    "        playoffs['GM_TYPE'] = 'Playoffs'\n",
    "        playoffs['SEASON_END'] = '20' + season[-2:]\n",
    "        all_games.append(playoffs)\n",
    "\n",
    "    return all_games"
   ]
  },
  {
   "cell_type": "code",
   "execution_count": 4,
   "metadata": {},
   "outputs": [],
   "source": [
    "def season_creator_gms(start, end):\n",
    "    return ['{}-{}'.format(x, str(x+1)[2:]) for x in range(start-1, end)]\n",
    "\n",
    "season_list = season_creator_gms(2000, 2020)"
   ]
  },
  {
   "cell_type": "code",
   "execution_count": null,
   "metadata": {},
   "outputs": [],
   "source": [
    "team_box_score = team_box_score_collect(season_list)\n",
    "\n",
    "df = pd.concat(team_box_score)\n",
    "\n",
    "df.to_csv('...')\n",
    "\n",
    "game_id_list = list(df.GAME_ID.unique())\n",
    "\n",
    "game_id_list = ['00' + str(key) for key in game_id_list if len(str(key))<10]\n",
    "\n",
    "import pickle\n",
    "\n",
    "with open('nba_game_ids.txt', 'wb') as fp:\n",
    "    pickle.dump(game_id_list, fp)\n",
    "    "
   ]
  },
  {
   "cell_type": "code",
   "execution_count": 8,
   "metadata": {},
   "outputs": [],
   "source": [
    "from nba_api.stats.endpoints import BoxScoreTraditionalV2\n",
    "\n",
    "def tra_box_score_collect(game_id_list):\n",
    "\n",
    "    player_boxstats = []\n",
    "    team_boxstats = []\n",
    "\n",
    "    pbar = tqdm(total=len(game_id_list))\n",
    "\n",
    "    for game_id in game_id_list:\n",
    "        time.sleep(random.randint(1, 3))\n",
    "    \n",
    "        box_stats = BoxScoreTraditionalV2(game_id)\n",
    "\n",
    "        player_box = box_stats.get_data_frames()[0]\n",
    "        player_boxstats.append(player_box)\n",
    "\n",
    "        team_box = box_stats.get_data_frames()[1]\n",
    "        team_boxstats.append(team_box)\n",
    "\n",
    "        pbar.update(1)\n",
    "\n",
    "    pbar.close()\n",
    "    return (player_advanced_stats, team_advaned_stats)"
   ]
  },
  {
   "cell_type": "code",
   "execution_count": 6,
   "metadata": {},
   "outputs": [],
   "source": [
    "from nba_api.stats.endpoints import BoxScoreAdvancedV2\n",
    "\n",
    "def adv_box_score_collect(game_id_list):\n",
    "\n",
    "    player_advanced_stats = []\n",
    "    team_advanced_stats = []\n",
    "\n",
    "    pbar = tqdm(total=len(game_id_list))\n",
    "\n",
    "    for game_id in game_id_list:\n",
    "        time.sleep(random.randint(1, 3))\n",
    "    \n",
    "        advanced_stats = BoxScoreAdvancedV2(game_id)\n",
    "\n",
    "        player_advstats = advanced_stats.get_data_frames()[0]\n",
    "        player_advanced_stats.append(player_advstats)\n",
    "\n",
    "        team_advstats = advanced_stats.get_data_frames()[1]\n",
    "        team_advanced_stats.append(team_advstats)\n",
    "\n",
    "        pbar.update(1)\n",
    "\n",
    "    pbar.close()\n",
    "    return (player_advanced_stats, team_advaned_stats)"
   ]
  },
  {
   "cell_type": "code",
   "execution_count": null,
   "metadata": {},
   "outputs": [],
   "source": [
    "box_stats = tra_box_score_collect(game_id_list)\n",
    "\n",
    "tra_player = pd.concat(box_stats[0])\n",
    "\n",
    "tra_team = pd.concat(box_stats[1])\n",
    "\n",
    "tra_player.to_csv('...')\n",
    "\n",
    "tra_team.to_csv('...')"
   ]
  },
  {
   "cell_type": "code",
   "execution_count": null,
   "metadata": {},
   "outputs": [],
   "source": [
    "adv_stats = adv_box_score_collect(game_id_list)\n",
    "\n",
    "adv_player = pd.concat(adv_stats[0])\n",
    "\n",
    "adv_team = pd.concat(adv_stats[1])\n",
    "\n",
    "adv_player.to_csv('...')\n",
    "\n",
    "adv_team.to_csv('...')"
   ]
  },
  {
   "cell_type": "code",
   "execution_count": 11,
   "metadata": {},
   "outputs": [],
   "source": [
    "from nba_api.stats.endpoints import DraftCombinePlayerAnthro\n",
    "\n",
    "def draft_combine_collect(year_list):\n",
    "\n",
    "    anthroprocentric = []\n",
    "\n",
    "    for year in year_list:\n",
    "        time.sleep(random.randint(1,2))\n",
    "        df = draftcombineplayeranthro.DraftCombinePlayerAnthro(season_year=year)\n",
    "        df = df.get_data_frames()[0]\n",
    "        anthroprocentric.append(df)\n",
    "    \n",
    "    return anthroprocentric"
   ]
  },
  {
   "cell_type": "code",
   "execution_count": 14,
   "metadata": {},
   "outputs": [],
   "source": [
    "year_list = list(range(1999, 2021))\n",
    "\n",
    "anthro = draft_combine_collect(year_list)\n",
    "\n",
    "combine = pd.concat(anthro)\n",
    "\n",
    "combine.to_csv('...')"
   ]
  },
  {
   "cell_type": "code",
   "execution_count": null,
   "metadata": {},
   "outputs": [],
   "source": []
  }
 ],
 "metadata": {
  "kernelspec": {
   "display_name": "Python 3",
   "language": "python",
   "name": "python3"
  },
  "language_info": {
   "codemirror_mode": {
    "name": "ipython",
    "version": 3
   },
   "file_extension": ".py",
   "mimetype": "text/x-python",
   "name": "python",
   "nbconvert_exporter": "python",
   "pygments_lexer": "ipython3",
   "version": "3.8.3"
  }
 },
 "nbformat": 4,
 "nbformat_minor": 4
}

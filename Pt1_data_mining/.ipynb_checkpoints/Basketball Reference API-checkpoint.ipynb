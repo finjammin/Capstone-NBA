{
 "cells": [
  {
   "cell_type": "markdown",
   "metadata": {},
   "source": [
    "# DATA MINING"
   ]
  },
  {
   "cell_type": "code",
   "execution_count": 1,
   "metadata": {},
   "outputs": [
    {
     "name": "stderr",
     "output_type": "stream",
     "text": [
      "/Users/finnalexander/Desktop/Anaconda/anaconda3/lib/python3.8/site-packages/requests/__init__.py:89: RequestsDependencyWarning: urllib3 (1.26.2) or chardet (3.0.4) doesn't match a supported version!\n",
      "  warnings.warn(\"urllib3 ({}) or chardet ({}) doesn't match a supported \"\n"
     ]
    }
   ],
   "source": [
    "import pandas as pd\n",
    "import numpy as np\n",
    "\n",
    "import basketball_reference_web_scraper\n",
    "from basketball_reference_web_scraper import client\n",
    "\n",
    "from tqdm import tqdm\n",
    "\n",
    "from datetime import datetime\n",
    "from datetime import timedelta"
   ]
  },
  {
   "cell_type": "code",
   "execution_count": 2,
   "metadata": {},
   "outputs": [],
   "source": [
    "def get_daily_box_scores(start_date, end_date):\n",
    "#     Enter DATEs in string format : 'YYYY-MM-DD'\n",
    "    \n",
    "    start_year, start_month, start_day = [int(n) for n in start_date.split('-')]\n",
    "\n",
    "    end_year, end_month, end_day = [int(n) for n in end_date.split('-')]\n",
    "    \n",
    "    if start_year<1946:\n",
    "        return 'no data pre 1946: please enter date in format YYYY-MM-DD'\n",
    "    \n",
    "    \n",
    "    \n",
    "    start_date = datetime.date(start_year, start_month, start_day)\n",
    "    end_date = datetime.date(end_year, end_month, end_day)\n",
    "    delta = datetime.timedelta(days=1)\n",
    "    \n",
    "    pbar = tqdm(total=((end_date+delta)-start_date).days)\n",
    "\n",
    "    box_scores = {}\n",
    "\n",
    "    while start_date <= end_date:\n",
    "\n",
    "\n",
    "        year = int(start_date.strftime('%Y'))\n",
    "        month = int(start_date.strftime('%m'))\n",
    "        day = int(start_date.strftime('%d'))\n",
    "        date_key = '-'.join([str(year), str(month), str(day)])\n",
    "\n",
    "        daily_boxscore = client.player_box_scores(day, month, year)\n",
    "\n",
    "        if daily_boxscore != []:\n",
    "            \n",
    "            box_scores[date_key] = daily_boxscore\n",
    "            \n",
    "\n",
    "        print('page {} finished'.format(date_key))\n",
    "\n",
    "        pbar.update(1)\n",
    "        start_date += delta\n",
    "\n",
    "    pbar.close()\n",
    "    return box_scores\n",
    "\n",
    "def get_daily_team_scores(start_date, end_date):\n",
    "#     Enter DATEs in string format : 'YYYY-MM-DD'\n",
    "    \n",
    "    start_year, start_month, start_day = [int(n) for n in start_date.split('-')]\n",
    "\n",
    "    end_year, end_month, end_day = [int(n) for n in end_date.split('-')]\n",
    "    \n",
    "    if start_year<1946:\n",
    "        return 'no data pre 1946: please enter date in format YYYY-MM-DD'\n",
    "    \n",
    "    \n",
    "    \n",
    "    start_date = datetime.date(start_year, start_month, start_day)\n",
    "    end_date = datetime.date(end_year, end_month, end_day)\n",
    "    delta = datetime.timedelta(days=1)\n",
    "    \n",
    "    pbar = tqdm(total=((end_date+delta)-start_date).days)\n",
    "\n",
    "    box_scores = {}\n",
    "\n",
    "    while start_date <= end_date:\n",
    "\n",
    "\n",
    "        year = int(start_date.strftime('%Y'))\n",
    "        month = int(start_date.strftime('%m'))\n",
    "        day = int(start_date.strftime('%d'))\n",
    "        date_key = '-'.join([str(year), str(month), str(day)])\n",
    "\n",
    "        daily_boxscore = client.team_box_scores(day=day, month=month, year=year)\n",
    "\n",
    "        if daily_boxscore != []:\n",
    "            \n",
    "            box_scores[date_key] = daily_boxscore\n",
    "            \n",
    "\n",
    "        print('page {} finished'.format(date_key))\n",
    "\n",
    "        pbar.update(1)\n",
    "        start_date += delta\n",
    "\n",
    "    pbar.close()\n",
    "    return box_scores"
   ]
  },
  {
   "cell_type": "code",
   "execution_count": 3,
   "metadata": {},
   "outputs": [],
   "source": [
    "date_params = ['1999-10-1', '2020-10-30']"
   ]
  },
  {
   "cell_type": "code",
   "execution_count": null,
   "metadata": {},
   "outputs": [],
   "source": [
    "player_box_scores = get_daily_box_scores(date_params[0], date_params[1])"
   ]
  },
  {
   "cell_type": "code",
   "execution_count": null,
   "metadata": {},
   "outputs": [],
   "source": [
    "team_box_scores = get_daily_team_scores(date_params[0], date_params[1])"
   ]
  }
 ],
 "metadata": {
  "kernelspec": {
   "display_name": "Python 3",
   "language": "python",
   "name": "python3"
  },
  "language_info": {
   "codemirror_mode": {
    "name": "ipython",
    "version": 3
   },
   "file_extension": ".py",
   "mimetype": "text/x-python",
   "name": "python",
   "nbconvert_exporter": "python",
   "pygments_lexer": "ipython3",
   "version": "3.8.3"
  }
 },
 "nbformat": 4,
 "nbformat_minor": 4
}

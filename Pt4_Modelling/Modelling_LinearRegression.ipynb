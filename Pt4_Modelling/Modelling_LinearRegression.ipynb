{
 "cells": [
  {
   "cell_type": "code",
   "execution_count": 1,
   "metadata": {},
   "outputs": [],
   "source": [
    "import pandas as pd\n",
    "import numpy as np\n",
    "\n",
    "import matplotlib.pyplot as plt\n",
    "import seaborn as sns\n",
    "\n",
    "sns.set(font_scale=1.5)\n",
    "\n",
    "%config InlineBackend.figure_format = 'retina'\n",
    "%matplotlib inline"
   ]
  },
  {
   "cell_type": "code",
   "execution_count": 2,
   "metadata": {},
   "outputs": [],
   "source": [
    "from sklearn.model_selection import KFold\n",
    "from sklearn.model_selection import train_test_split, GridSearchCV, cross_val_score\n",
    "from sklearn.preprocessing import StandardScaler, MinMaxScaler\n",
    "from sklearn.linear_model import ElasticNet\n",
    "from sklearn.pipeline import Pipeline\n",
    "from sklearn.decomposition import PCA"
   ]
  },
  {
   "cell_type": "code",
   "execution_count": 3,
   "metadata": {},
   "outputs": [
    {
     "data": {
      "text/plain": [
       "Index(['h_pg_date', 'h_pg_season_id', 'h_pg_location', 'h_pg_type',\n",
       "       'h_pg_outcome', 'h_pg_difference', 'h_pg_game_id', 'h_pg_team_id',\n",
       "       'h_pg_team_abb', 'h_pg_team_city',\n",
       "       ...\n",
       "       'a_s3_ewm_tm_tov_pct^2', 'a_s3_ewm_tm_tov_pct ewm_usg_pct',\n",
       "       'a_s3_ewm_tm_tov_pct ewm_game_score',\n",
       "       'a_s3_ewm_tm_tov_pct ewm_plus_minus', 'a_s3_ewm_usg_pct^2',\n",
       "       'a_s3_ewm_usg_pct ewm_game_score', 'a_s3_ewm_usg_pct ewm_plus_minus',\n",
       "       'a_s3_ewm_game_score^2', 'a_s3_ewm_game_score ewm_plus_minus',\n",
       "       'a_s3_ewm_plus_minus^2'],\n",
       "      dtype='object', length=9044)"
      ]
     },
     "execution_count": 3,
     "metadata": {},
     "output_type": "execute_result"
    }
   ],
   "source": [
    "df = pd.read_csv('../Pt3_Data_processing/poly_ewm18.csv')\n",
    "df.sort_values(by='h_pg_date', inplace=True)\n",
    "\n",
    "# Turning IDS into categorical variables\n",
    "for col in df:\n",
    "    if 'id' in col:\n",
    "        df[col]=df[col].astype('category')\n",
    "    \n",
    "# Turning age into integers        \n",
    "for col in [col for col in df if 'age' in col]:\n",
    "    df[col] = df[col].apply(lambda x: int(x.replace(' days 00:00:00.000000000','')))\n",
    "    \n",
    "df.drop_duplicates(inplace=True)\n",
    "df.drop(columns='Unnamed: 0', inplace=True)\n",
    "df.columns"
   ]
  },
  {
   "cell_type": "code",
   "execution_count": 17,
   "metadata": {},
   "outputs": [
    {
     "name": "stdout",
     "output_type": "stream",
     "text": [
      "COVID\n",
      " 1    0.533333\n",
      "0    0.466667\n",
      "Name: h_pg_outcome, dtype: float64\n",
      "\n",
      "2018-\n",
      " 1    0.571667\n",
      "0    0.428333\n",
      "Name: h_pg_outcome, dtype: float64\n",
      "\n",
      "-2018\n",
      " 1    0.600805\n",
      "0    0.399195\n",
      "Name: h_pg_outcome, dtype: float64\n",
      "\n",
      "2019-\n",
      " 1    0.549639\n",
      "0    0.450361\n",
      "Name: h_pg_outcome, dtype: float64\n",
      "\n",
      "-2019\n",
      " 1    0.600271\n",
      "0    0.399729\n",
      "Name: h_pg_outcome, dtype: float64\n"
     ]
    },
    {
     "data": {
      "text/plain": [
       "(3673, 21824)"
      ]
     },
     "execution_count": 17,
     "metadata": {},
     "output_type": "execute_result"
    }
   ],
   "source": [
    "name_id_remove = [col for col in df if any(c in col for c in ['_player_id','_name', '_team'])]\n",
    "\n",
    "modelling_columns = ['h_pg_outcome', 'h_pg_difference', 'h_pg_type', 'h_pg_location'] + \\\n",
    "[col for col in df.loc[:,'h_pg_age_days':] if \\\n",
    "                     col not in name_id_remove]\n",
    "\n",
    "X = df[modelling_columns].copy()\n",
    "# X.fillna(value=0, inplace=True)\n",
    "\n",
    "print('COVID\\n',X['h_pg_outcome'][X['a_pg_date']>'2020-03-30'].value_counts(normalize=True))\n",
    "print('\\n2018-\\n',X['h_pg_outcome'][X['a_pg_date']>'2018-08-30'].value_counts(normalize=True))\n",
    "print('\\n-2018\\n',X['h_pg_outcome'][X['a_pg_date']<'2018-08-30'].value_counts(normalize=True))\n",
    "print('\\n2019-\\n',X['h_pg_outcome'][X['a_pg_date']>'2019-08-30'].value_counts(normalize=True))\n",
    "print('\\n-2019\\n',X['h_pg_outcome'][X['a_pg_date']<'2019-08-30'].value_counts(normalize=True))\n",
    "\n",
    "X[X['a_pg_date']>'2017-08-30'].shape[0], X[X['a_pg_date']<'2017-08-30'].shape[0]\n",
    "\n",
    "# # REMOVING FIRST YEAR OF GAMES AND POST-COVID \n",
    "# # (GAMES NOT PLAYED ON HOME COURTS, DATA CONSTRUCTION WOULD CAUSE ISSUES)\n",
    "# X.drop(X[X['a_pg_date']<'2001-08-30'].index, inplace=True)\n",
    "# X.drop(X[X['a_pg_date']>'2020-03-30'].index, inplace=True)\n",
    "\n",
    "# print('\\nBASELINE FOR TOTAL DATASET :\\n',X['h_pg_outcome'].value_counts(normalize=True))\n",
    "\n",
    "# print('\\nDF SHAPE :\\n',X.shape)"
   ]
  },
  {
   "cell_type": "code",
   "execution_count": 9,
   "metadata": {},
   "outputs": [],
   "source": [
    "from sklearn.model_selection import train_test_split"
   ]
  },
  {
   "cell_type": "code",
   "execution_count": 18,
   "metadata": {},
   "outputs": [],
   "source": [
    "X.drop(columns=['a_pg_season_id', 'a_pg_location', 'a_pg_type',\n",
    "       'a_pg_outcome', 'a_pg_difference', 'a_pg_game_id','a_pg_date','h_pg_outcome'], inplace=True)\n",
    "\n",
    "X.fillna(0, inplace=True)\n",
    "y = X.pop('h_pg_difference')\n",
    "\n",
    "\n",
    "X_train, X_test, y_train, y_test = train_test_split(X, y, test_size=0.2, random_state=42)"
   ]
  },
  {
   "cell_type": "code",
   "execution_count": 5,
   "metadata": {},
   "outputs": [],
   "source": [
    "# X.drop(columns=['a_pg_season_id', 'a_pg_location', 'a_pg_type',\n",
    "#        'a_pg_outcome', 'a_pg_difference', 'a_pg_game_id'], inplace=True)\n",
    "\n",
    "# X.fillna(0, inplace=True)\n",
    "\n",
    "\n",
    "# X_train = X[X['a_pg_date']<'2017-08-30'].copy()\n",
    "# X_test = X[X['a_pg_date']>'2017-08-30'].copy()\n",
    "\n",
    "# X_train.drop(columns='a_pg_date', inplace=True)\n",
    "# X_test.drop(columns='a_pg_date', inplace=True)\n",
    "\n",
    "\n",
    "# yC_train = X_train.pop('h_pg_outcome')\n",
    "# yC_test = X_test.pop('h_pg_outcome')\n",
    "\n",
    "# yR_train = X_train.pop('h_pg_difference')\n",
    "# yR_test = X_test.pop('h_pg_difference')"
   ]
  },
  {
   "cell_type": "code",
   "execution_count": 19,
   "metadata": {},
   "outputs": [
    {
     "data": {
      "text/plain": [
       "Pipeline(steps=[('scaler', StandardScaler()), ('pca', PCA(n_components=500)),\n",
       "                ('model', ElasticNet(max_iter=1000000))])"
      ]
     },
     "execution_count": 19,
     "metadata": {},
     "output_type": "execute_result"
    }
   ],
   "source": [
    "pipe = Pipeline([('scaler', StandardScaler()),\n",
    "                ('pca', PCA(n_components=500)),\n",
    "                ('model', ElasticNet(max_iter=1000000))])\n",
    "pipe"
   ]
  },
  {
   "cell_type": "code",
   "execution_count": 20,
   "metadata": {},
   "outputs": [
    {
     "name": "stdout",
     "output_type": "stream",
     "text": [
      "Fitting 5 folds for each of 121 candidates, totalling 605 fits\n"
     ]
    },
    {
     "name": "stderr",
     "output_type": "stream",
     "text": [
      "[Parallel(n_jobs=2)]: Using backend LokyBackend with 2 concurrent workers.\n",
      "[Parallel(n_jobs=2)]: Done  28 tasks      | elapsed: 15.5min\n",
      "[Parallel(n_jobs=2)]: Done 124 tasks      | elapsed: 54.0min\n",
      "[Parallel(n_jobs=2)]: Done 284 tasks      | elapsed: 118.3min\n",
      "[Parallel(n_jobs=2)]: Done 508 tasks      | elapsed: 212.2min\n",
      "[Parallel(n_jobs=2)]: Done 605 out of 605 | elapsed: 249.8min finished\n"
     ]
    },
    {
     "data": {
      "text/plain": [
       "GridSearchCV(cv=KFold(n_splits=5, random_state=None, shuffle=True),\n",
       "             estimator=Pipeline(steps=[('scaler', StandardScaler()),\n",
       "                                       ('pca', PCA(n_components=500)),\n",
       "                                       ('model',\n",
       "                                        ElasticNet(max_iter=1000000))]),\n",
       "             n_jobs=2,\n",
       "             param_grid={'model__alpha': array([1.00000e-04, 1.00009e+00, 2.00008e+00, 3.00007e+00, 4.00006e+00,\n",
       "       5.00005e+00, 6.00004e+00, 7.00003e+00, 8.00002e+00, 9.00001e+00,\n",
       "       1.00000e+01]),\n",
       "                         'model__l1_ratio': array([1.0000e-04, 1.0009e-01, 2.0008e-01, 3.0007e-01, 4.0006e-01,\n",
       "       5.0005e-01, 6.0004e-01, 7.0003e-01, 8.0002e-01, 9.0001e-01,\n",
       "       1.0000e+00])},\n",
       "             scoring='neg_root_mean_squared_error', verbose=3)"
      ]
     },
     "execution_count": 20,
     "metadata": {},
     "output_type": "execute_result"
    }
   ],
   "source": [
    "# model = ElasticNet(max_iter=1000000)\n",
    "\n",
    "kf = KFold(shuffle=True)\n",
    "\n",
    "gs_params = {'model__alpha' : np.linspace(.0001,10,11),\n",
    "            'model__l1_ratio': np.linspace(0.0001,1,11)}\n",
    "\n",
    "grid = GridSearchCV(pipe, gs_params, n_jobs=2, cv=kf, verbose=3, scoring='neg_root_mean_squared_error')\n",
    "\n",
    "grid.fit(X_train, y_train)"
   ]
  },
  {
   "cell_type": "code",
   "execution_count": 21,
   "metadata": {},
   "outputs": [
    {
     "data": {
      "text/plain": [
       "-12.133107173594192"
      ]
     },
     "execution_count": 21,
     "metadata": {},
     "output_type": "execute_result"
    }
   ],
   "source": [
    "grid.best_score_"
   ]
  },
  {
   "cell_type": "code",
   "execution_count": 22,
   "metadata": {},
   "outputs": [
    {
     "data": {
      "text/plain": [
       "<matplotlib.collections.PathCollection at 0x7fbfeaf944c0>"
      ]
     },
     "execution_count": 22,
     "metadata": {},
     "output_type": "execute_result"
    },
    {
     "data": {
      "image/png": "[encoded data removed]",
      "text/plain": [
       "<Figure size 432x288 with 1 Axes>"
      ]
     },
     "metadata": {
      "image/png": {
       "height": 256,
       "width": 386
      },
      "needs_background": "light"
     },
     "output_type": "display_data"
    }
   ],
   "source": [
    "plt.scatter(grid.predict(X_test), y_test)"
   ]
  },
  {
   "cell_type": "code",
   "execution_count": 11,
   "metadata": {},
   "outputs": [
    {
     "data": {
      "text/plain": [
       "<matplotlib.collections.PathCollection at 0x7fca4af41220>"
      ]
     },
     "execution_count": 11,
     "metadata": {},
     "output_type": "execute_result"
    },
    {
     "data": {
      "image/png": "[encoded data removed]",
      "text/plain": [
       "<Figure size 432x288 with 1 Axes>"
      ]
     },
     "metadata": {
      "image/png": {
       "height": 256,
       "width": 386
      },
      "needs_background": "light"
     },
     "output_type": "display_data"
    }
   ],
   "source": [
    "plt.scatter(grid.predict(X_train), yR_train)"
   ]
  },
  {
   "cell_type": "code",
   "execution_count": 12,
   "metadata": {},
   "outputs": [
    {
     "data": {
      "text/plain": [
       "Pipeline(steps=[('scaler', StandardScaler()), ('pca', PCA(n_components=500)),\n",
       "                ('model',\n",
       "                 ElasticNet(alpha=3.0000700000000005, l1_ratio=0.0001,\n",
       "                            max_iter=1000000))])"
      ]
     },
     "execution_count": 12,
     "metadata": {},
     "output_type": "execute_result"
    }
   ],
   "source": [
    "grid.best_estimator_"
   ]
  },
  {
   "cell_type": "code",
   "execution_count": 13,
   "metadata": {},
   "outputs": [
    {
     "data": {
      "text/plain": [
       "{'model__alpha': 3.0000700000000005, 'model__l1_ratio': 0.0001}"
      ]
     },
     "execution_count": 13,
     "metadata": {},
     "output_type": "execute_result"
    }
   ],
   "source": [
    "grid.best_params_"
   ]
  },
  {
   "cell_type": "code",
   "execution_count": 24,
   "metadata": {},
   "outputs": [
    {
     "data": {
      "text/plain": [
       "array([ 11.28716519,  -4.54275861,  -9.12192079, ..., -11.3624379 ,\n",
       "        15.93837787,  10.21672726])"
      ]
     },
     "execution_count": 24,
     "metadata": {},
     "output_type": "execute_result"
    }
   ],
   "source": [
    "grid.predict(X_test)"
   ]
  },
  {
   "cell_type": "code",
   "execution_count": 26,
   "metadata": {},
   "outputs": [
    {
     "data": {
      "text/plain": [
       "array([  3,  -1,  -5, ..., -11,  18,  16])"
      ]
     },
     "execution_count": 26,
     "metadata": {},
     "output_type": "execute_result"
    }
   ],
   "source": [
    "np.array(yR_test)"
   ]
  },
  {
   "cell_type": "code",
   "execution_count": 14,
   "metadata": {},
   "outputs": [
    {
     "data": {
      "text/plain": [
       "array([ 3.04070305e-02, -2.85330995e-01,  8.61586227e-02, -1.22042812e-01,\n",
       "       -4.45421604e-02,  3.71231896e-02,  5.15045745e-02,  8.44387718e-03,\n",
       "       -3.06270700e-02,  1.17302615e-02, -1.29993634e-03,  1.44083235e-05,\n",
       "        2.03977812e-02,  3.41468029e-02, -2.53999849e-02, -1.01509359e-03,\n",
       "        5.26232014e-03, -8.43722499e-03, -2.44876315e-02, -2.67070377e-03,\n",
       "        2.43741846e-03,  5.71900729e-03, -4.76760471e-03, -1.34480651e-02,\n",
       "        1.52899999e-03, -4.69825468e-03, -1.49715277e-02, -1.38035573e-02,\n",
       "        1.29775978e-02, -1.30285636e-03, -4.80117238e-03,  2.88167871e-03,\n",
       "        1.93278741e-02, -4.76959857e-04, -1.27970575e-03,  1.54994159e-02,\n",
       "        1.67866702e-02,  1.33031413e-03,  1.10600855e-02, -1.19321901e-03,\n",
       "       -1.36897156e-02, -7.95286216e-03,  1.83028519e-02,  5.25458334e-03,\n",
       "       -1.19922585e-02, -7.86405945e-04, -9.98110810e-03, -1.23135937e-02,\n",
       "       -1.69314918e-02,  2.10463062e-02, -1.08893222e-02,  5.59289752e-03,\n",
       "        2.41701781e-03, -6.12821751e-03, -9.72586609e-03,  6.58129934e-03,\n",
       "       -9.99693745e-04,  2.54040232e-02,  1.01199203e-02, -2.94749155e-03,\n",
       "       -8.75175257e-03, -3.15405238e-03,  6.55636727e-03, -3.22842084e-02,\n",
       "       -3.44452486e-02, -4.57417460e-03, -1.08955690e-02,  5.75743936e-03,\n",
       "       -1.91469554e-02, -5.23043454e-03,  1.75985979e-02, -1.08732626e-02,\n",
       "       -1.16786306e-02, -2.33087820e-02,  6.68159182e-03, -5.28543878e-03,\n",
       "       -7.34725860e-03,  2.60390832e-02,  2.19167495e-02,  5.32902086e-03,\n",
       "        3.80416435e-02, -8.01418039e-03, -2.47851969e-02, -6.27694346e-03,\n",
       "       -2.00627078e-03, -6.41038479e-04,  2.33583811e-02,  5.66264314e-03,\n",
       "       -5.98520510e-03,  2.17245481e-03, -1.41638685e-02, -2.59704458e-02,\n",
       "       -2.03022113e-02, -1.76839895e-02,  4.35004734e-02, -4.32384723e-02,\n",
       "        1.51168359e-02,  2.21646010e-02,  1.65385638e-02,  7.14416577e-03,\n",
       "        5.33672546e-02, -1.55659840e-02,  4.04895855e-03, -3.34042609e-02,\n",
       "        3.48985851e-02,  9.60162944e-03,  1.20439024e-02, -5.24462559e-03,\n",
       "        1.18609223e-02,  1.47704614e-02,  1.18262319e-02, -2.81877729e-02,\n",
       "       -9.66668147e-04,  1.85479711e-02, -1.92758421e-02, -1.32769788e-02,\n",
       "        2.59347616e-03, -1.22106981e-02, -3.67689668e-03,  5.73180359e-02,\n",
       "        2.82680476e-02,  3.24549550e-02, -4.08990706e-02,  1.16835214e-02,\n",
       "        5.10196850e-03,  1.78983807e-02,  2.19920569e-02, -1.64210957e-02,\n",
       "       -2.08927189e-02,  7.15426113e-03, -4.84744494e-02, -1.72402921e-02,\n",
       "        3.60375718e-02, -1.09546966e-02,  1.46314264e-02,  4.62692353e-02,\n",
       "       -4.99979646e-02,  2.45655402e-02,  9.38482026e-04,  1.54401560e-02,\n",
       "       -3.42184940e-02, -1.26282475e-02,  3.28664007e-03, -3.24145619e-02,\n",
       "       -5.55716124e-02,  3.28791343e-03,  9.52362934e-03,  1.98312854e-02,\n",
       "        3.36626583e-02, -5.85936828e-03,  3.19076549e-02, -2.43819333e-02,\n",
       "       -4.02660224e-03, -6.44297854e-02,  4.67359179e-02,  7.81436724e-02,\n",
       "       -1.53988196e-02, -3.41274367e-02,  4.08417233e-03, -4.24184784e-02,\n",
       "        6.47909376e-02, -3.26683456e-02,  2.27663168e-02,  1.37893967e-02,\n",
       "       -4.00700867e-02, -7.77033793e-02, -1.86987850e-02, -2.99694025e-02,\n",
       "       -3.27885993e-02, -2.05474159e-02,  4.83509284e-03,  3.72001367e-02,\n",
       "       -4.27086591e-02, -2.64202863e-02, -1.53755847e-02, -1.47758961e-02,\n",
       "       -5.52234442e-02, -4.19104575e-02,  2.87653109e-02,  2.58789097e-02,\n",
       "        5.18439148e-02,  3.71796603e-03,  4.59380443e-02, -1.71617838e-02,\n",
       "       -2.57787087e-02, -7.52712200e-04,  2.20071395e-02,  6.87433544e-02,\n",
       "        8.50519327e-02,  4.22494035e-03, -2.84122769e-02,  7.18289696e-03,\n",
       "       -8.10523921e-02,  5.83678610e-02, -6.38792847e-03,  1.24844985e-02,\n",
       "       -1.06497939e-02, -6.29054393e-02, -3.48850263e-02,  4.95050306e-02,\n",
       "       -3.98288629e-03,  5.13288337e-02,  2.71141660e-02, -1.67327105e-02,\n",
       "       -2.39618069e-02,  3.20387390e-02, -2.59313902e-02,  2.77456894e-02,\n",
       "        1.41120931e-02, -2.64236228e-02, -4.00048063e-02,  1.25478762e-02,\n",
       "       -5.60405813e-02,  4.25711170e-02, -3.28850445e-02,  1.12137350e-02,\n",
       "        2.00880322e-02,  4.82615125e-02, -2.50426264e-02, -4.53110723e-02,\n",
       "       -5.39823657e-04,  1.86642331e-02, -3.03544778e-02, -4.47104327e-03,\n",
       "        4.82286621e-03,  7.01768787e-04,  7.28552792e-02,  9.26158064e-02,\n",
       "       -4.40039928e-02, -5.95788122e-03, -1.62777218e-02,  1.08759011e-02,\n",
       "        1.52102834e-02,  4.61003569e-02, -1.55572051e-02, -1.55975081e-02,\n",
       "       -8.94611203e-03,  6.62510337e-04, -5.20174713e-02, -7.13145232e-03,\n",
       "       -7.89276119e-04,  4.73361971e-02, -5.49521999e-02, -7.47288984e-03,\n",
       "       -8.46336472e-03, -2.55504771e-02, -5.18485731e-02, -1.21494871e-02,\n",
       "       -4.77900052e-04, -6.19961366e-02,  5.72172988e-02,  4.98928119e-02,\n",
       "        3.74476029e-02,  4.65607437e-02,  1.75415540e-02, -1.15328212e-02,\n",
       "        2.18006473e-02,  3.81925210e-03,  2.65953448e-02,  5.45269346e-02,\n",
       "        6.25946070e-03,  2.15981023e-02,  4.06456843e-02,  2.26760953e-03,\n",
       "       -4.63707296e-02,  4.72012277e-03,  1.73412227e-03, -5.67680171e-02,\n",
       "       -1.89588713e-02, -1.77850320e-02, -7.66164282e-03,  3.62914841e-02,\n",
       "        6.07195378e-02, -1.77640254e-02,  3.77309273e-02, -2.91547855e-02,\n",
       "        2.35306603e-03, -3.33007282e-02, -6.63256073e-02,  6.48226894e-02,\n",
       "       -3.35803515e-02, -4.47221097e-02, -7.22466571e-03,  2.04628071e-02,\n",
       "        9.15589642e-04, -2.65365735e-02, -1.35086724e-02, -4.63356408e-02,\n",
       "       -3.40422154e-02, -4.68799813e-03,  2.91677253e-02, -3.30126336e-05,\n",
       "       -3.55221385e-02, -5.08534374e-03,  5.27288380e-02, -1.79004502e-02,\n",
       "       -1.39043710e-02, -6.88256154e-02,  1.58067381e-02,  3.16379292e-02,\n",
       "        6.25796183e-03, -6.00370601e-03, -1.56093565e-02,  3.74217858e-02,\n",
       "       -1.60087043e-02,  3.63771505e-02,  9.73876532e-03, -2.81485448e-02,\n",
       "       -5.08812647e-03, -4.63660760e-02,  1.38049596e-02,  2.77637974e-02,\n",
       "       -5.95662506e-02, -2.99623956e-02,  2.80957783e-02,  1.13621925e-02,\n",
       "        6.23411171e-03, -2.04198615e-02, -3.36597978e-02, -1.01784654e-02,\n",
       "        2.60474971e-02,  4.31377622e-02,  3.89856129e-02, -1.22105357e-02,\n",
       "        1.17083930e-03, -9.50986069e-03, -2.69479853e-02, -1.93282183e-02,\n",
       "       -4.97093245e-02, -3.71215013e-02,  5.59155178e-02,  1.67908887e-02,\n",
       "        7.02925746e-03, -1.73408958e-02, -8.78249330e-03, -2.12574002e-02,\n",
       "       -5.92230029e-02,  1.31118958e-02, -5.72581298e-02,  7.45824900e-03,\n",
       "        4.14874645e-02,  8.19446589e-03,  5.52816701e-02, -3.54200271e-02,\n",
       "       -2.65270784e-03, -5.73297074e-02, -3.91844431e-02, -2.66618452e-02,\n",
       "       -3.24073686e-02,  3.21661010e-02,  3.37514673e-02,  6.87177758e-03,\n",
       "       -5.73299534e-04, -4.41525753e-02, -2.60605111e-02, -1.79566282e-02,\n",
       "        1.34275312e-02, -6.04564716e-03, -1.79287324e-02, -4.36890985e-02,\n",
       "        5.67041363e-02,  2.76363825e-02,  1.00575006e-02, -1.00157264e-02,\n",
       "       -1.03280054e-02,  4.81923485e-02, -3.77408137e-02,  2.00541075e-02,\n",
       "       -4.57327732e-02,  2.31019884e-02,  2.04083911e-02,  2.83279494e-02,\n",
       "        1.47147410e-02,  4.89610266e-03, -3.38217913e-02, -3.75022939e-02,\n",
       "       -6.12102776e-03, -2.51068849e-02,  8.48410048e-03, -2.85072651e-02,\n",
       "        3.56674122e-02, -7.55994537e-03,  1.03884818e-02,  7.26896158e-04,\n",
       "       -3.98339361e-03, -7.98405567e-02,  2.61646565e-02,  6.61149652e-03,\n",
       "        7.80374806e-03,  2.19529292e-02, -5.56899639e-02,  7.42268459e-03,\n",
       "        3.22846655e-02, -1.76365597e-02, -1.22441796e-02,  3.50635380e-02,\n",
       "       -4.93621553e-03, -2.21405231e-02, -4.03451542e-02, -2.81436949e-02,\n",
       "        5.85931248e-03,  3.33661396e-02,  3.91118991e-02, -5.06309710e-03,\n",
       "       -3.11036946e-02, -6.03787160e-02,  1.59180243e-02, -6.93897555e-02,\n",
       "        1.20176633e-02,  2.99191128e-02,  1.57565017e-02,  1.33738481e-02,\n",
       "        2.59291795e-02,  3.56081030e-02, -1.78603417e-02,  2.62497566e-02,\n",
       "        1.16362941e-02,  4.69838544e-02, -3.59904885e-02, -1.17981622e-03,\n",
       "        3.12009701e-02, -9.78127392e-03,  6.54142475e-03, -2.29476859e-02,\n",
       "       -1.89142323e-03, -1.36335250e-02, -4.13123233e-02, -2.41081514e-02,\n",
       "        4.38364697e-02, -1.24563369e-02,  2.93828497e-02, -3.43901489e-02,\n",
       "       -2.27938853e-02,  1.19209101e-02, -2.19082007e-02, -1.52980363e-02,\n",
       "       -1.00787593e-03, -3.35273964e-03,  2.19959212e-02,  2.88348330e-02,\n",
       "       -5.62896400e-03,  1.30764938e-02, -4.39156771e-02,  8.00490433e-03,\n",
       "        6.00089596e-03,  9.33151981e-03,  2.38332041e-02, -7.75715382e-03,\n",
       "        1.65732677e-02,  7.30164832e-02, -4.59747801e-02,  3.55824350e-02,\n",
       "       -2.44952005e-02,  7.69147753e-03, -1.89308055e-02,  6.63115216e-03,\n",
       "        7.28892899e-02, -1.02706749e-02,  1.33675476e-03,  4.48756661e-02,\n",
       "       -2.21227960e-02,  6.86381297e-03, -2.94768906e-02,  5.20463285e-02,\n",
       "       -8.33842790e-03,  1.06625326e-03, -1.76503364e-02,  1.87627069e-03,\n",
       "        1.52780391e-02,  5.70002703e-03,  6.08409252e-02, -2.37218240e-02,\n",
       "       -7.89969794e-02, -8.11194134e-03, -1.13509228e-02, -4.05466428e-02,\n",
       "       -4.22194292e-02, -1.86975071e-02, -1.20434922e-02, -3.76838135e-02,\n",
       "        4.69863556e-03,  4.91409535e-03, -1.68315209e-02, -1.35451080e-02,\n",
       "        2.45749968e-02, -1.32212750e-02, -1.92357189e-02,  2.92951493e-02,\n",
       "        9.08692884e-03, -4.73488007e-02,  1.30085023e-02, -2.03322243e-02,\n",
       "        1.50551290e-02, -6.32062792e-02,  1.75250522e-02,  2.39844149e-02,\n",
       "        8.90415831e-03, -2.43252419e-02,  3.37475774e-02, -2.60009263e-02])"
      ]
     },
     "execution_count": 14,
     "metadata": {},
     "output_type": "execute_result"
    }
   ],
   "source": [
    "grid.best_estimator_.named_steps['model'].coef_"
   ]
  },
  {
   "cell_type": "code",
   "execution_count": 16,
   "metadata": {},
   "outputs": [
    {
     "data": {
      "text/plain": [
       "['a_pg_date']"
      ]
     },
     "execution_count": 16,
     "metadata": {},
     "output_type": "execute_result"
    }
   ],
   "source": [
    "[col for col in X_train.columns if 'date' in col]"
   ]
  },
  {
   "cell_type": "code",
   "execution_count": null,
   "metadata": {},
   "outputs": [],
   "source": []
  }
 ],
 "metadata": {
  "kernelspec": {
   "display_name": "Python 3",
   "language": "python",
   "name": "python3"
  },
  "language_info": {
   "codemirror_mode": {
    "name": "ipython",
    "version": 3
   },
   "file_extension": ".py",
   "mimetype": "text/x-python",
   "name": "python",
   "nbconvert_exporter": "python",
   "pygments_lexer": "ipython3",
   "version": "3.8.3"
  }
 },
 "nbformat": 4,
 "nbformat_minor": 4
}

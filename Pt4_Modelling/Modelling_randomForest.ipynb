{
 "cells": [
  {
   "cell_type": "code",
   "execution_count": 8,
   "metadata": {},
   "outputs": [],
   "source": [
    "import pandas as pd\n",
    "import numpy as np\n",
    "import matplotlib.pyplot as plt\n",
    "import seaborn as sns\n",
    "sns.set(font_scale=1.5)\n",
    "\n",
    "%config InlineBackend.figure_format = 'retina'\n",
    "%matplotlib inline\n",
    "\n",
    "from sklearn.preprocessing import StandardScaler, PolynomialFeatures, PowerTransformer\n",
    "from sklearn.metrics import mean_squared_error, accuracy_score\n",
    "from sklearn.ensemble import RandomForestClassifier\n",
    "from sklearn.model_selection import GridSearchCV, KFold\n",
    "\n",
    "import tensorflow as tf"
   ]
  },
  {
   "cell_type": "code",
   "execution_count": 2,
   "metadata": {},
   "outputs": [
    {
     "name": "stdout",
     "output_type": "stream",
     "text": [
      "COVID\n",
      " 1    0.533333\n",
      "0    0.466667\n",
      "Name: h_pg_outcome, dtype: float64\n",
      "\n",
      "2018-\n",
      " 1    0.571667\n",
      "0    0.428333\n",
      "Name: h_pg_outcome, dtype: float64\n",
      "\n",
      "-2018\n",
      " 1    0.600805\n",
      "0    0.399195\n",
      "Name: h_pg_outcome, dtype: float64\n",
      "\n",
      "2019-\n",
      " 1    0.549639\n",
      "0    0.450361\n",
      "Name: h_pg_outcome, dtype: float64\n",
      "\n",
      "-2019\n",
      " 1    0.600271\n",
      "0    0.399729\n",
      "Name: h_pg_outcome, dtype: float64\n",
      "\n",
      "BASELINE FOR TOTAL DATASET :\n",
      " 1    0.597252\n",
      "0    0.402748\n",
      "Name: h_pg_outcome, dtype: float64\n",
      "\n",
      "DF SHAPE :\n",
      " (23002, 9003)\n"
     ]
    }
   ],
   "source": [
    "# home_df = pd.read_csv('../Pt3_Data_processing/home_structured_ewm16.csv')\n",
    "# away_df = pd.read_csv('../Pt3_Data_processing/away_structured_ewm16.csv')\n",
    "\n",
    "df = pd.read_csv('../Pt3_Data_processing/poly_ewm18.csv')\n",
    "df.sort_values(by='h_pg_date', inplace=True)\n",
    "\n",
    "# Turning IDS into categorical variables\n",
    "for col in df:\n",
    "    if 'id' in col:\n",
    "        df[col]=df[col].astype('category')\n",
    "    \n",
    "# Turning age into integers        \n",
    "for col in [col for col in df if 'age' in col]:\n",
    "    df[col] = df[col].apply(lambda x: int(x.replace(' days 00:00:00.000000000','')))\n",
    "    \n",
    "df.drop_duplicates(inplace=True)\n",
    "\n",
    "name_id_remove = [col for col in df if any(c in col for c in ['_player_id','_name', '_team'])]\n",
    "\n",
    "modelling_columns = ['h_pg_outcome', 'h_pg_difference', 'h_pg_type', 'h_pg_location'] + \\\n",
    "[col for col in df.loc[:,'h_pg_age_days':] if \\\n",
    "                     col not in name_id_remove]\n",
    "\n",
    "X = df[modelling_columns].copy()\n",
    "# X.fillna(value=0, inplace=True)\n",
    "\n",
    "print('COVID\\n',X['h_pg_outcome'][X['a_pg_date']>'2020-03-30'].value_counts(normalize=True))\n",
    "print('\\n2018-\\n',X['h_pg_outcome'][X['a_pg_date']>'2018-08-30'].value_counts(normalize=True))\n",
    "print('\\n-2018\\n',X['h_pg_outcome'][X['a_pg_date']<'2018-08-30'].value_counts(normalize=True))\n",
    "print('\\n2019-\\n',X['h_pg_outcome'][X['a_pg_date']>'2019-08-30'].value_counts(normalize=True))\n",
    "print('\\n-2019\\n',X['h_pg_outcome'][X['a_pg_date']<'2019-08-30'].value_counts(normalize=True))\n",
    "\n",
    "X[X['a_pg_date']>'2017-08-30'].shape[0], X[X['a_pg_date']<'2017-08-30'].shape[0]\n",
    "\n",
    "# REMOVING FIRST YEAR OF GAMES AND POST-COVID \n",
    "# (GAMES NOT PLAYED ON HOME COURTS, DATA CONSTRUCTION WOULD CAUSE ISSUES)\n",
    "X.drop(X[X['a_pg_date']<'2001-08-30'].index, inplace=True)\n",
    "X.drop(X[X['a_pg_date']>'2020-03-30'].index, inplace=True)\n",
    "\n",
    "print('\\nBASELINE FOR TOTAL DATASET :\\n',X['h_pg_outcome'].value_counts(normalize=True))\n",
    "\n",
    "print('\\nDF SHAPE :\\n',X.shape)\n",
    "\n",
    "# for i in range(16):\n",
    "# #     PREFIX FOR NEW COLUMN NAMES\n",
    "#     prefix = [col for col in X if 'fgm' in col][i][:4]\n",
    "# #     FG%\n",
    "#     X[f'{prefix}_fgpct'] = X[[col for col in X if 'fgm' in col][i]] / \\\n",
    "#     X[[col for col in X if 'fga' in col][i]]\n",
    "# #     FG3%\n",
    "#     X[f'{prefix[:-4]}_fg3pct'] = X[[col for col in X if 'fg3m' in col][i]] / \\\n",
    "#     X[[col for col in X if 'fg3a' in col][i]]\n",
    "# #     FT%\n",
    "#     X[f'{prefix[:-4]}_ftpct'] = X[[col for col in X if 'ftm' in col][i]] / \\\n",
    "#     X[[col for col in X if 'fta' in col][i]]\n",
    "# #     JOHN HOLLINGER GAMESCORE\n",
    "#     X[f'{prefix}_gs'] = X[f'{prefix}_ewm_pts'] + .4*X[[col for col in X if 'fgm' in col][i]] - \\\n",
    "#     .7*X[[col for col in X if 'fga' in col][i]] - .4*(X[[col for col in X if 'fta' in col][i]] - \\\n",
    "#                                                      X[[col for col in X if 'ftm' in col][i]]) + \\\n",
    "#     .7*X[[col for col in X if 'oreb' in col][i]] + .3*X[[col for col in X if 'dreb' in col][i]] + \\\n",
    "#     X[[col for col in X if '_stl' in col][i]] + .7*X[[col for col in X if 'ewm_ast' in col][i]] + \\\n",
    "#     .7*X[[col for col in X if 'ewm_blk' in col][i]] - .4*X[[col for col in X if 'ewm_pf' in col][i]] - \\\n",
    "#     X[[col for col in X if 'ewm_to' in col][i]]\n",
    "    "
   ]
  },
  {
   "cell_type": "code",
   "execution_count": 3,
   "metadata": {},
   "outputs": [],
   "source": [
    "X.drop(columns=['a_pg_season_id', 'a_pg_location', 'a_pg_type',\n",
    "       'a_pg_outcome', 'a_pg_difference', 'a_pg_game_id'], inplace=True)\n",
    "\n",
    "X.fillna(0, inplace=True)\n",
    "\n",
    "\n",
    "X_train = X[X['a_pg_date']<'2017-08-30'].copy()\n",
    "X_test = X[X['a_pg_date']>'2017-08-30'].copy()\n",
    "\n",
    "X_train.drop(columns='a_pg_date', inplace=True)\n",
    "X_test.drop(columns='a_pg_date', inplace=True)\n",
    "\n",
    "\n",
    "\n",
    "yC_train = X_train.pop('h_pg_outcome')\n",
    "yC_test = X_test.pop('h_pg_outcome')\n",
    "\n",
    "yR_train = X_train.pop('h_pg_difference')\n",
    "yR_test = X_test.pop('h_pg_difference')\n",
    "\n",
    "columns = X_train.columns"
   ]
  },
  {
   "cell_type": "code",
   "execution_count": 7,
   "metadata": {},
   "outputs": [],
   "source": [
    "# poly = PolynomialFeatures()\n",
    "# poly.fit(X_train)\n",
    "# X_train = pd.DataFrame(poly.transform(X_train),\n",
    "#                        columns=poly.get_feature_names([c for c in X_train if c!=0]))\n",
    "# X_test = pd.DataFrame(poly.transform(X_test),\n",
    "#                        columns=poly.get_feature_names([c for c in X_train if c!=0]))\n",
    "\n",
    "# power = PowerTransformer()\n",
    "# X_train = pd.DataFrame(power.fit_transform(X_train),\n",
    "#                        columns=X_train.columns)\n",
    "# X_test = pd.DataFrame(power.transform(X_test),\n",
    "#                       columns=X_train.columns)"
   ]
  },
  {
   "cell_type": "code",
   "execution_count": null,
   "metadata": {},
   "outputs": [
    {
     "name": "stdout",
     "output_type": "stream",
     "text": [
      "Fitting 5 folds for each of 9 candidates, totalling 45 fits\n"
     ]
    },
    {
     "name": "stderr",
     "output_type": "stream",
     "text": [
      "[Parallel(n_jobs=2)]: Using backend LokyBackend with 2 concurrent workers.\n"
     ]
    }
   ],
   "source": [
    "kf = KFold(shuffle=True, random_state=42)\n",
    "\n",
    "rfc = RandomForestClassifier(n_estimators=500, max_features='sqrt')\n",
    "\n",
    "rfc_params = {'criterion' : ['entropy'],\n",
    "              'max_depth' : [13,14,15],\n",
    "              'min_impurity_decrease' : [0, .1, .2]}\n",
    "\n",
    "rfc_grid = GridSearchCV(rfc, rfc_params, n_jobs=2, verbose=3, cv=kf)\n",
    "\n",
    "rfc_grid.fit(X_train, yC_train)\n",
    "\n",
    "print('Train score   : ', rfc_grid.score(X_train, yC_train))\n",
    "print('Test score    : ', rfc_grid.score(X_test, yC_test))\n",
    "print('Mean CVscore. : ', rfc_grid.best_score_)\n",
    "print(rfc_grid.best_params_)"
   ]
  },
  {
   "cell_type": "code",
   "execution_count": 48,
   "metadata": {},
   "outputs": [
    {
     "name": "stdout",
     "output_type": "stream",
     "text": [
      "Fitting 5 folds for each of 20 candidates, totalling 100 fits\n"
     ]
    },
    {
     "name": "stderr",
     "output_type": "stream",
     "text": [
      "[Parallel(n_jobs=2)]: Using backend LokyBackend with 2 concurrent workers.\n",
      "[Parallel(n_jobs=2)]: Done  28 tasks      | elapsed: 14.7min\n",
      "[Parallel(n_jobs=2)]: Done 100 out of 100 | elapsed: 55.4min finished\n"
     ]
    },
    {
     "name": "stdout",
     "output_type": "stream",
     "text": [
      "Train score   :  0.7172976300400123\n",
      "Test score    :  0.6624857468643102\n",
      "Mean CVscore. :  0.6658967824168778\n",
      "{'learning_rate': 0.025, 'max_depth': 5}\n"
     ]
    }
   ],
   "source": [
    "from sklearn.ensemble import GradientBoostingClassifier\n",
    "\n",
    "kf = KFold(shuffle=True, random_state=42)\n",
    "\n",
    "gfc = GradientBoostingClassifier(n_estimators=100, max_features='sqrt')\n",
    "\n",
    "gfc_params = {'max_depth' : [3,4,5,6,7], 'learning_rate':np.linspace(.025,.1,4)}\n",
    "\n",
    "gfc_grid = GridSearchCV(gfc, gfc_params, n_jobs=2, verbose=3, cv=kf)\n",
    "\n",
    "gfc_grid.fit(X_train, yC_train)\n",
    "\n",
    "print('Train score   : ', gfc_grid.score(X_train, yC_train))\n",
    "print('Test score    : ', gfc_grid.score(X_test, yC_test))\n",
    "print('Mean CVscore. : ', gfc_grid.best_score_)\n",
    "print(gfc_grid.best_params_)"
   ]
  },
  {
   "cell_type": "code",
   "execution_count": 53,
   "metadata": {},
   "outputs": [],
   "source": [
    "import joblib\n",
    "joblib.dump(gfc_grid)"
   ]
  },
  {
   "cell_type": "code",
   "execution_count": 33,
   "metadata": {},
   "outputs": [],
   "source": []
  },
  {
   "cell_type": "code",
   "execution_count": 52,
   "metadata": {},
   "outputs": [
    {
     "data": {
      "text/plain": [
       "array([0.025, 0.05 , 0.075, 0.1  ])"
      ]
     },
     "execution_count": 52,
     "metadata": {},
     "output_type": "execute_result"
    }
   ],
   "source": [
    "np.linspace(.025,.1,4)"
   ]
  },
  {
   "cell_type": "code",
   "execution_count": 19,
   "metadata": {},
   "outputs": [
    {
     "ename": "IndexError",
     "evalue": "list index out of range",
     "output_type": "error",
     "traceback": [
      "\u001b[0;31m---------------------------------------------------------------------------\u001b[0m",
      "\u001b[0;31mIndexError\u001b[0m                                Traceback (most recent call last)",
      "\u001b[0;32m<ipython-input-19-f8ceea4c4ad8>\u001b[0m in \u001b[0;36m<module>\u001b[0;34m\u001b[0m\n\u001b[0;32m----> 1\u001b[0;31m \u001b[0mrfc_grid\u001b[0m\u001b[0;34m.\u001b[0m\u001b[0mbest_estimator_\u001b[0m\u001b[0;34m.\u001b[0m\u001b[0mscore\u001b[0m\u001b[0;34m(\u001b[0m\u001b[0mX_train\u001b[0m\u001b[0;34m,\u001b[0m \u001b[0myC_train\u001b[0m\u001b[0;34m)\u001b[0m\u001b[0;34m\u001b[0m\u001b[0;34m\u001b[0m\u001b[0m\n\u001b[0m",
      "\u001b[0;32m~/Desktop/Anaconda/anaconda3/envs/tensorflow_env/lib/python3.8/site-packages/sklearn/base.py\u001b[0m in \u001b[0;36mscore\u001b[0;34m(self, X, y, sample_weight)\u001b[0m\n\u001b[1;32m    367\u001b[0m         \"\"\"\n\u001b[1;32m    368\u001b[0m         \u001b[0;32mfrom\u001b[0m \u001b[0;34m.\u001b[0m\u001b[0mmetrics\u001b[0m \u001b[0;32mimport\u001b[0m \u001b[0maccuracy_score\u001b[0m\u001b[0;34m\u001b[0m\u001b[0;34m\u001b[0m\u001b[0m\n\u001b[0;32m--> 369\u001b[0;31m         \u001b[0;32mreturn\u001b[0m \u001b[0maccuracy_score\u001b[0m\u001b[0;34m(\u001b[0m\u001b[0my\u001b[0m\u001b[0;34m,\u001b[0m \u001b[0mself\u001b[0m\u001b[0;34m.\u001b[0m\u001b[0mpredict\u001b[0m\u001b[0;34m(\u001b[0m\u001b[0mX\u001b[0m\u001b[0;34m)\u001b[0m\u001b[0;34m,\u001b[0m \u001b[0msample_weight\u001b[0m\u001b[0;34m=\u001b[0m\u001b[0msample_weight\u001b[0m\u001b[0;34m)\u001b[0m\u001b[0;34m\u001b[0m\u001b[0;34m\u001b[0m\u001b[0m\n\u001b[0m\u001b[1;32m    370\u001b[0m \u001b[0;34m\u001b[0m\u001b[0m\n\u001b[1;32m    371\u001b[0m \u001b[0;34m\u001b[0m\u001b[0m\n",
      "\u001b[0;32m~/Desktop/Anaconda/anaconda3/envs/tensorflow_env/lib/python3.8/site-packages/sklearn/ensemble/_forest.py\u001b[0m in \u001b[0;36mpredict\u001b[0;34m(self, X)\u001b[0m\n\u001b[1;32m    610\u001b[0m             \u001b[0mThe\u001b[0m \u001b[0mpredicted\u001b[0m \u001b[0mclasses\u001b[0m\u001b[0;34m.\u001b[0m\u001b[0;34m\u001b[0m\u001b[0;34m\u001b[0m\u001b[0m\n\u001b[1;32m    611\u001b[0m         \"\"\"\n\u001b[0;32m--> 612\u001b[0;31m         \u001b[0mproba\u001b[0m \u001b[0;34m=\u001b[0m \u001b[0mself\u001b[0m\u001b[0;34m.\u001b[0m\u001b[0mpredict_proba\u001b[0m\u001b[0;34m(\u001b[0m\u001b[0mX\u001b[0m\u001b[0;34m)\u001b[0m\u001b[0;34m\u001b[0m\u001b[0;34m\u001b[0m\u001b[0m\n\u001b[0m\u001b[1;32m    613\u001b[0m \u001b[0;34m\u001b[0m\u001b[0m\n\u001b[1;32m    614\u001b[0m         \u001b[0;32mif\u001b[0m \u001b[0mself\u001b[0m\u001b[0;34m.\u001b[0m\u001b[0mn_outputs_\u001b[0m \u001b[0;34m==\u001b[0m \u001b[0;36m1\u001b[0m\u001b[0;34m:\u001b[0m\u001b[0;34m\u001b[0m\u001b[0;34m\u001b[0m\u001b[0m\n",
      "\u001b[0;32m~/Desktop/Anaconda/anaconda3/envs/tensorflow_env/lib/python3.8/site-packages/sklearn/ensemble/_forest.py\u001b[0m in \u001b[0;36mpredict_proba\u001b[0;34m(self, X)\u001b[0m\n\u001b[1;32m    654\u001b[0m         \u001b[0mcheck_is_fitted\u001b[0m\u001b[0;34m(\u001b[0m\u001b[0mself\u001b[0m\u001b[0;34m)\u001b[0m\u001b[0;34m\u001b[0m\u001b[0;34m\u001b[0m\u001b[0m\n\u001b[1;32m    655\u001b[0m         \u001b[0;31m# Check data\u001b[0m\u001b[0;34m\u001b[0m\u001b[0;34m\u001b[0m\u001b[0;34m\u001b[0m\u001b[0m\n\u001b[0;32m--> 656\u001b[0;31m         \u001b[0mX\u001b[0m \u001b[0;34m=\u001b[0m \u001b[0mself\u001b[0m\u001b[0;34m.\u001b[0m\u001b[0m_validate_X_predict\u001b[0m\u001b[0;34m(\u001b[0m\u001b[0mX\u001b[0m\u001b[0;34m)\u001b[0m\u001b[0;34m\u001b[0m\u001b[0;34m\u001b[0m\u001b[0m\n\u001b[0m\u001b[1;32m    657\u001b[0m \u001b[0;34m\u001b[0m\u001b[0m\n\u001b[1;32m    658\u001b[0m         \u001b[0;31m# Assign chunk of trees to jobs\u001b[0m\u001b[0;34m\u001b[0m\u001b[0;34m\u001b[0m\u001b[0;34m\u001b[0m\u001b[0m\n",
      "\u001b[0;32m~/Desktop/Anaconda/anaconda3/envs/tensorflow_env/lib/python3.8/site-packages/sklearn/ensemble/_forest.py\u001b[0m in \u001b[0;36m_validate_X_predict\u001b[0;34m(self, X)\u001b[0m\n\u001b[1;32m    410\u001b[0m         \u001b[0mcheck_is_fitted\u001b[0m\u001b[0;34m(\u001b[0m\u001b[0mself\u001b[0m\u001b[0;34m)\u001b[0m\u001b[0;34m\u001b[0m\u001b[0;34m\u001b[0m\u001b[0m\n\u001b[1;32m    411\u001b[0m \u001b[0;34m\u001b[0m\u001b[0m\n\u001b[0;32m--> 412\u001b[0;31m         \u001b[0;32mreturn\u001b[0m \u001b[0mself\u001b[0m\u001b[0;34m.\u001b[0m\u001b[0mestimators_\u001b[0m\u001b[0;34m[\u001b[0m\u001b[0;36m0\u001b[0m\u001b[0;34m]\u001b[0m\u001b[0;34m.\u001b[0m\u001b[0m_validate_X_predict\u001b[0m\u001b[0;34m(\u001b[0m\u001b[0mX\u001b[0m\u001b[0;34m,\u001b[0m \u001b[0mcheck_input\u001b[0m\u001b[0;34m=\u001b[0m\u001b[0;32mTrue\u001b[0m\u001b[0;34m)\u001b[0m\u001b[0;34m\u001b[0m\u001b[0;34m\u001b[0m\u001b[0m\n\u001b[0m\u001b[1;32m    413\u001b[0m \u001b[0;34m\u001b[0m\u001b[0m\n\u001b[1;32m    414\u001b[0m     \u001b[0;34m@\u001b[0m\u001b[0mproperty\u001b[0m\u001b[0;34m\u001b[0m\u001b[0;34m\u001b[0m\u001b[0m\n",
      "\u001b[0;31mIndexError\u001b[0m: list index out of range"
     ]
    }
   ],
   "source": [
    "rfc_grid.best_estimator_.score(X_train, yC_train)"
   ]
  },
  {
   "cell_type": "code",
   "execution_count": 21,
   "metadata": {},
   "outputs": [
    {
     "ename": "AttributeError",
     "evalue": "'GridSearchCV' object has no attribute 'scorer_'",
     "output_type": "error",
     "traceback": [
      "\u001b[0;31m---------------------------------------------------------------------------\u001b[0m",
      "\u001b[0;31mAttributeError\u001b[0m                            Traceback (most recent call last)",
      "\u001b[0;32m<ipython-input-21-a63f922e46a4>\u001b[0m in \u001b[0;36m<module>\u001b[0;34m\u001b[0m\n\u001b[0;32m----> 1\u001b[0;31m \u001b[0mrfc_grid\u001b[0m\u001b[0;34m.\u001b[0m\u001b[0mscore\u001b[0m\u001b[0;34m(\u001b[0m\u001b[0mX_test\u001b[0m\u001b[0;34m,\u001b[0m \u001b[0myC_test\u001b[0m\u001b[0;34m)\u001b[0m\u001b[0;34m\u001b[0m\u001b[0;34m\u001b[0m\u001b[0m\n\u001b[0m",
      "\u001b[0;32m~/Desktop/Anaconda/anaconda3/envs/tensorflow_env/lib/python3.8/site-packages/sklearn/model_selection/_search.py\u001b[0m in \u001b[0;36mscore\u001b[0;34m(self, X, y)\u001b[0m\n\u001b[1;32m    441\u001b[0m         \"\"\"\n\u001b[1;32m    442\u001b[0m         \u001b[0mself\u001b[0m\u001b[0;34m.\u001b[0m\u001b[0m_check_is_fitted\u001b[0m\u001b[0;34m(\u001b[0m\u001b[0;34m'score'\u001b[0m\u001b[0;34m)\u001b[0m\u001b[0;34m\u001b[0m\u001b[0;34m\u001b[0m\u001b[0m\n\u001b[0;32m--> 443\u001b[0;31m         \u001b[0;32mif\u001b[0m \u001b[0mself\u001b[0m\u001b[0;34m.\u001b[0m\u001b[0mscorer_\u001b[0m \u001b[0;32mis\u001b[0m \u001b[0;32mNone\u001b[0m\u001b[0;34m:\u001b[0m\u001b[0;34m\u001b[0m\u001b[0;34m\u001b[0m\u001b[0m\n\u001b[0m\u001b[1;32m    444\u001b[0m             raise ValueError(\"No score function explicitly defined, \"\n\u001b[1;32m    445\u001b[0m                              \u001b[0;34m\"and the estimator doesn't provide one %s\"\u001b[0m\u001b[0;34m\u001b[0m\u001b[0;34m\u001b[0m\u001b[0m\n",
      "\u001b[0;31mAttributeError\u001b[0m: 'GridSearchCV' object has no attribute 'scorer_'"
     ]
    }
   ],
   "source": [
    "rfc_grid.score(X_test, yC_test)"
   ]
  },
  {
   "cell_type": "code",
   "execution_count": 22,
   "metadata": {},
   "outputs": [
    {
     "data": {
      "text/plain": [
       "{'criterion': 'entropy'}"
      ]
     },
     "execution_count": 22,
     "metadata": {},
     "output_type": "execute_result"
    }
   ],
   "source": [
    "rfc_grid.best_params_"
   ]
  },
  {
   "cell_type": "code",
   "execution_count": null,
   "metadata": {},
   "outputs": [],
   "source": []
  }
 ],
 "metadata": {
  "kernelspec": {
   "display_name": "tensorflow_env",
   "language": "python",
   "name": "tensorflow_env"
  },
  "language_info": {
   "codemirror_mode": {
    "name": "ipython",
    "version": 3
   },
   "file_extension": ".py",
   "mimetype": "text/x-python",
   "name": "python",
   "nbconvert_exporter": "python",
   "pygments_lexer": "ipython3",
   "version": "3.8.5"
  }
 },
 "nbformat": 4,
 "nbformat_minor": 4
}

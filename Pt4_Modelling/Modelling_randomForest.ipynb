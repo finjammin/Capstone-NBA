{
 "cells": [
  {
   "cell_type": "code",
   "execution_count": 9,
   "metadata": {},
   "outputs": [],
   "source": [
    "import pandas as pd\n",
    "import numpy as np\n",
    "import matplotlib.pyplot as plt\n",
    "import seaborn as sns\n",
    "sns.set(font_scale=1.5)\n",
    "\n",
    "%config InlineBackend.figure_format = 'retina'\n",
    "%matplotlib inline\n",
    "\n",
    "from sklearn.preprocessing import StandardScaler, PolynomialFeatures, PowerTransformer\n",
    "from sklearn.metrics import mean_squared_error, accuracy_score\n",
    "from sklearn.ensemble import RandomForestClassifier\n",
    "\n",
    "import tensorflow as tf"
   ]
  },
  {
   "cell_type": "code",
   "execution_count": 2,
   "metadata": {},
   "outputs": [
    {
     "name": "stdout",
     "output_type": "stream",
     "text": [
      "COVID\n",
      " 1    0.533333\n",
      "0    0.466667\n",
      "Name: h_pg_outcome, dtype: float64\n",
      "\n",
      "2018-\n",
      " 1    0.571667\n",
      "0    0.428333\n",
      "Name: h_pg_outcome, dtype: float64\n",
      "\n",
      "-2018\n",
      " 1    0.600805\n",
      "0    0.399195\n",
      "Name: h_pg_outcome, dtype: float64\n",
      "\n",
      "2019-\n",
      " 1    0.549639\n",
      "0    0.450361\n",
      "Name: h_pg_outcome, dtype: float64\n",
      "\n",
      "-2019\n",
      " 1    0.600271\n",
      "0    0.399729\n",
      "Name: h_pg_outcome, dtype: float64\n",
      "\n",
      "BASELINE FOR TOTAL DATASET :\n",
      " 1    0.597252\n",
      "0    0.402748\n",
      "Name: h_pg_outcome, dtype: float64\n",
      "\n",
      "DF SHAPE :\n",
      " (23002, 539)\n"
     ]
    }
   ],
   "source": [
    "# home_df = pd.read_csv('../Pt3_Data_processing/home_structured_ewm16.csv')\n",
    "# away_df = pd.read_csv('../Pt3_Data_processing/away_structured_ewm16.csv')\n",
    "\n",
    "df = pd.read_csv('../Pt3_Data_processing/home_structured_ewm20.csv')\n",
    "df.sort_values(by='h_pg_date', inplace=True)\n",
    "\n",
    "# Turning IDS into categorical variables\n",
    "for col in df:\n",
    "    if 'id' in col:\n",
    "        df[col]=df[col].astype('category')\n",
    "    \n",
    "# Turning age into integers        \n",
    "for col in [col for col in df if 'age' in col]:\n",
    "    df[col] = df[col].apply(lambda x: int(x.replace(' days 00:00:00.000000000','')))\n",
    "    \n",
    "df.drop_duplicates(inplace=True)\n",
    "\n",
    "name_id_remove = [col for col in df if any(c in col for c in ['_player_id','_name', '_team'])]\n",
    "\n",
    "modelling_columns = ['h_pg_outcome', 'h_pg_difference', 'h_pg_type', 'h_pg_location'] + \\\n",
    "[col for col in df.loc[:,'h_pg_age_days':] if \\\n",
    "                     col not in name_id_remove]\n",
    "\n",
    "X = df[modelling_columns].copy()\n",
    "# X.fillna(value=0, inplace=True)\n",
    "\n",
    "print('COVID\\n',X['h_pg_outcome'][X['a_pg_date']>'2020-03-30'].value_counts(normalize=True))\n",
    "print('\\n2018-\\n',X['h_pg_outcome'][X['a_pg_date']>'2018-08-30'].value_counts(normalize=True))\n",
    "print('\\n-2018\\n',X['h_pg_outcome'][X['a_pg_date']<'2018-08-30'].value_counts(normalize=True))\n",
    "print('\\n2019-\\n',X['h_pg_outcome'][X['a_pg_date']>'2019-08-30'].value_counts(normalize=True))\n",
    "print('\\n-2019\\n',X['h_pg_outcome'][X['a_pg_date']<'2019-08-30'].value_counts(normalize=True))\n",
    "\n",
    "X[X['a_pg_date']>'2017-08-30'].shape[0], X[X['a_pg_date']<'2017-08-30'].shape[0]\n",
    "\n",
    "# REMOVING FIRST YEAR OF GAMES AND POST-COVID \n",
    "# (GAMES NOT PLAYED ON HOME COURTS, DATA CONSTRUCTION WOULD CAUSE ISSUES)\n",
    "X.drop(X[X['a_pg_date']<'2001-08-30'].index, inplace=True)\n",
    "X.drop(X[X['a_pg_date']>'2020-03-30'].index, inplace=True)\n",
    "\n",
    "print('\\nBASELINE FOR TOTAL DATASET :\\n',X['h_pg_outcome'].value_counts(normalize=True))\n",
    "\n",
    "print('\\nDF SHAPE :\\n',X.shape)\n",
    "\n",
    "for i in range(16):\n",
    "#     PREFIX FOR NEW COLUMN NAMES\n",
    "    prefix = [col for col in X if 'fgm' in col][i][:4]\n",
    "#     FG%\n",
    "    X[f'{prefix}_fgpct'] = X[[col for col in X if 'fgm' in col][i]] / \\\n",
    "    X[[col for col in X if 'fga' in col][i]]\n",
    "#     FG3%\n",
    "    X[f'{prefix[:-4]}_fg3pct'] = X[[col for col in X if 'fg3m' in col][i]] / \\\n",
    "    X[[col for col in X if 'fg3a' in col][i]]\n",
    "#     FT%\n",
    "    X[f'{prefix[:-4]}_ftpct'] = X[[col for col in X if 'ftm' in col][i]] / \\\n",
    "    X[[col for col in X if 'fta' in col][i]]\n",
    "#     JOHN HOLLINGER GAMESCORE\n",
    "    X[f'{prefix}_gs'] = X[f'{prefix}_ewm_pts'] + .4*X[[col for col in X if 'fgm' in col][i]] - \\\n",
    "    .7*X[[col for col in X if 'fga' in col][i]] - .4*(X[[col for col in X if 'fta' in col][i]] - \\\n",
    "                                                     X[[col for col in X if 'ftm' in col][i]]) + \\\n",
    "    .7*X[[col for col in X if 'oreb' in col][i]] + .3*X[[col for col in X if 'dreb' in col][i]] + \\\n",
    "    X[[col for col in X if '_stl' in col][i]] + .7*X[[col for col in X if 'ewm_ast' in col][i]] + \\\n",
    "    .7*X[[col for col in X if 'ewm_blk' in col][i]] - .4*X[[col for col in X if 'ewm_pf' in col][i]] - \\\n",
    "    X[[col for col in X if 'ewm_to' in col][i]]\n",
    "    "
   ]
  },
  {
   "cell_type": "code",
   "execution_count": 3,
   "metadata": {},
   "outputs": [],
   "source": [
    "X.drop(columns=['a_pg_season_id', 'a_pg_location', 'a_pg_type',\n",
    "       'a_pg_outcome', 'a_pg_difference', 'a_pg_game_id'], inplace=True)\n",
    "\n",
    "X.fillna(0, inplace=True)\n",
    "\n",
    "\n",
    "X_train = X[X['a_pg_date']<'2017-08-30'].copy()\n",
    "X_test = X[X['a_pg_date']>'2017-08-30'].copy()\n",
    "\n",
    "X_train.drop(columns='a_pg_date', inplace=True)\n",
    "X_test.drop(columns='a_pg_date', inplace=True)\n",
    "\n",
    "\n",
    "\n",
    "yC_train = X_train.pop('h_pg_outcome')\n",
    "yC_test = X_test.pop('h_pg_outcome')\n",
    "\n",
    "yR_train = X_train.pop('h_pg_difference')\n",
    "yR_test = X_test.pop('h_pg_difference')\n",
    "\n",
    "columns = X_train.columns"
   ]
  },
  {
   "cell_type": "code",
   "execution_count": 6,
   "metadata": {},
   "outputs": [
    {
     "ename": "NameError",
     "evalue": "name 'PowerTransformer' is not defined",
     "output_type": "error",
     "traceback": [
      "\u001b[0;31m---------------------------------------------------------------------------\u001b[0m",
      "\u001b[0;31mNameError\u001b[0m                                 Traceback (most recent call last)",
      "\u001b[0;32m<ipython-input-6-ab7f15c2605b>\u001b[0m in \u001b[0;36m<module>\u001b[0;34m\u001b[0m\n\u001b[1;32m      6\u001b[0m                        columns=poly.get_feature_names([c for c in X_train if c!=0]))\n\u001b[1;32m      7\u001b[0m \u001b[0;34m\u001b[0m\u001b[0m\n\u001b[0;32m----> 8\u001b[0;31m \u001b[0mpower\u001b[0m \u001b[0;34m=\u001b[0m \u001b[0mPowerTransformer\u001b[0m\u001b[0;34m(\u001b[0m\u001b[0;34m)\u001b[0m\u001b[0;34m\u001b[0m\u001b[0;34m\u001b[0m\u001b[0m\n\u001b[0m\u001b[1;32m      9\u001b[0m X_train = pd.DataFrame(power.fit_transform(X_train),\n\u001b[1;32m     10\u001b[0m                        columns=X_train.columns)\n",
      "\u001b[0;31mNameError\u001b[0m: name 'PowerTransformer' is not defined"
     ]
    }
   ],
   "source": [
    "poly = PolynomialFeatures()\n",
    "poly.fit(X_train)\n",
    "X_train = pd.DataFrame(poly.transform(X_train),\n",
    "                       columns=poly.get_feature_names([c for c in X_train if c!=0]))\n",
    "X_test = pd.DataFrame(poly.transform(X_test),\n",
    "                       columns=poly.get_feature_names([c for c in X_train if c!=0]))\n",
    "\n",
    "power = PowerTransformer()\n",
    "X_train = pd.DataFrame(power.fit_transform(X_train),\n",
    "                       columns=X_train.columns)\n",
    "X_test = pd.DataFrame(power.transform(X_test),\n",
    "                      columns=X_train.columns)"
   ]
  },
  {
   "cell_type": "code",
   "execution_count": null,
   "metadata": {},
   "outputs": [],
   "source": [
    "rfc = RandomForestClassifier(n_estimators=1000, max_features='sqrt')\n",
    "\n",
    "rfc_params = {'criterion' : ['gini','entropy']}\n",
    "\n",
    "rfc_grid = GridSearchCV(rfc, rfc_params, n_jobs=2, verbose=3)\n",
    "\n",
    "rfc_grid.fit(X_train, y_train)\n",
    "\n",
    "print('Train R2 score : ', rfc_grid.score(X_train_pca, y_train_seas))\n",
    "print('Test R2 score  : ', rfc_grid.score(X_test_pca, y_test_seas))\n",
    "print('Mean CV score. : ', rfc_grid.best_score_)\n",
    "print(rfc_grid.best_params_)"
   ]
  },
  {
   "cell_type": "code",
   "execution_count": 4,
   "metadata": {},
   "outputs": [],
   "source": [
    "import numpy as np"
   ]
  },
  {
   "cell_type": "code",
   "execution_count": null,
   "metadata": {},
   "outputs": [],
   "source": [
    "power = PowerTransformer()\n",
    "X_train = pd.DataFrame(power.fit_transform(X_train),\n",
    "                       columns=X_train.columns)\n",
    "X_test = pd.DataFrame(power.transform(X_test),\n",
    "                      columns=X_train.columns)"
   ]
  },
  {
   "cell_type": "code",
   "execution_count": 6,
   "metadata": {},
   "outputs": [
    {
     "data": {
      "text/plain": [
       "2.718281828459045"
      ]
     },
     "execution_count": 6,
     "metadata": {},
     "output_type": "execute_result"
    }
   ],
   "source": [
    "np.e"
   ]
  },
  {
   "cell_type": "code",
   "execution_count": null,
   "metadata": {},
   "outputs": [],
   "source": []
  }
 ],
 "metadata": {
  "kernelspec": {
   "display_name": "tensorflow_env",
   "language": "python",
   "name": "tensorflow_env"
  },
  "language_info": {
   "codemirror_mode": {
    "name": "ipython",
    "version": 3
   },
   "file_extension": ".py",
   "mimetype": "text/x-python",
   "name": "python",
   "nbconvert_exporter": "python",
   "pygments_lexer": "ipython3",
   "version": "3.8.5"
  }
 },
 "nbformat": 4,
 "nbformat_minor": 4
}
